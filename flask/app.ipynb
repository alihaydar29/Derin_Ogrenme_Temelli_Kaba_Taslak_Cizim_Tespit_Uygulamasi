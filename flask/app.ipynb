{
 "cells": [
  {
   "cell_type": "code",
   "execution_count": null,
   "id": "59f273bd-6109-488c-be8a-b3ace32a4967",
   "metadata": {},
   "outputs": [
    {
     "name": "stdout",
     "output_type": "stream",
     "text": [
      " * Serving Flask app '__main__'\n",
      " * Debug mode: off\n"
     ]
    },
    {
     "name": "stderr",
     "output_type": "stream",
     "text": [
      "WARNING: This is a development server. Do not use it in a production deployment. Use a production WSGI server instead.\n",
      " * Running on all addresses (0.0.0.0)\n",
      " * Running on http://127.0.0.1:5000\n",
      " * Running on http://192.168.1.102:5000\n",
      "Press CTRL+C to quit\n"
     ]
    }
   ],
   "source": [
    "import tensorflow as tf\n",
    "from keras.models import load_model\n",
    "from PIL import Image\n",
    "import numpy as np\n",
    "import base64\n",
    "import io\n",
    "from flask import Flask, request, jsonify, render_template\n",
    "\n",
    "app = Flask(__name__)\n",
    "# Modeli yükle\n",
    "model = load_model('MB4.h5')\n",
    "# Katman isimlerini al\n",
    "layer_names = [layer.name for layer in model.layers if isinstance(layer, tf.keras.layers.Conv2D)]\n",
    "# Görselleştirme modelini oluştur\n",
    "visualization_model = tf.keras.models.Model(inputs=model.input, outputs=[model.get_layer(name).output for name in layer_names])\n",
    "\n",
    "# API endpoint'i\n",
    "@app.route('/', methods=['GET', 'POST'])\n",
    "def katman_ciktilari():\n",
    "    # Gelen görüntüyü al\n",
    "    if request.method == 'POST':\n",
    "        img = Image.open(io.BytesIO(file.read()))\n",
    "        img = img.convert('L')\n",
    "        img_array_resized = np.array(img.resize((model.input_shape[1], model.input_shape[2])))\n",
    "        img_tensor = np.expand_dims(img_array_resized, axis=0)\n",
    "        img_tensor = img_tensor.astype(np.float32)\n",
    "\n",
    "        # Katman çıktılarını al\n",
    "        activations = visualization_model.predict(img_tensor)\n",
    "\n",
    "        classes = [\"airplane\", \"automobile\", \"bird\", \"cat\", \"dog\", \"frog\", \"horse\", \"ship\", \"truck\"]\n",
    "        predictions = model.predict(img_tensor)\n",
    "        predicted_class = classes[np.argmax(predictions)]\n",
    "\n",
    "        print(\"Predicted class:\", predicted_class)\n",
    "\n",
    "        # Katman çıktılarını resim olarak dönüştür\n",
    "        results = []\n",
    "        for layer_name, feature_map in zip(layer_names, activations):\n",
    "            if len(feature_map.shape) == 4:\n",
    "                n_features = feature_map.shape[-1]\n",
    "                size = feature_map.shape[1]\n",
    "                display_grid = np.zeros((size, size * n_features), dtype=np.uint8)\n",
    "                for i in range(n_features):\n",
    "                    x = feature_map[0, :, :, i]\n",
    "                    x -= x.mean()\n",
    "                    x /= x.std()\n",
    "                    x *= 64\n",
    "                    x += 128\n",
    "                    x = np.clip(x, 0, 255).astype('uint8')\n",
    "                    display_grid[:, i * size: (i + 1) * size] = x\n",
    "\n",
    "                # Oluşturulan grid'i base64 formatında dönüştür\n",
    "                with io.BytesIO() as byte_io:\n",
    "                    resim = Image.fromarray(display_grid)\n",
    "                    resim.save(byte_io, 'JPEG')\n",
    "                    byte_data = byte_io.getvalue()\n",
    "                    base64_data = base64.b64encode(byte_data).decode('ascii')\n",
    "                    results.append({'name': layer_name, 'image': base64_data})\n",
    "\n",
    "        return render_template('results.html', results=results)\n",
    "\n",
    "    return \"Welcome to the API!\"\n",
    "\n",
    "\n",
    "if __name__ == '__main__':\n",
    "    app.run(host='0.0.0.0', port=5000)\n"
   ]
  },
  {
   "cell_type": "code",
   "execution_count": null,
   "id": "5838446c-3be5-40a6-89d0-471bbbfe81d8",
   "metadata": {},
   "outputs": [],
   "source": [
    "%tb"
   ]
  },
  {
   "cell_type": "code",
   "execution_count": null,
   "id": "2540803e-ad16-47e2-b084-3a295c0a3bc2",
   "metadata": {},
   "outputs": [],
   "source": []
  }
 ],
 "metadata": {
  "kernelspec": {
   "display_name": "Python 3 (ipykernel)",
   "language": "python",
   "name": "python3"
  },
  "language_info": {
   "codemirror_mode": {
    "name": "ipython",
    "version": 3
   },
   "file_extension": ".py",
   "mimetype": "text/x-python",
   "name": "python",
   "nbconvert_exporter": "python",
   "pygments_lexer": "ipython3",
   "version": "3.9.12"
  }
 },
 "nbformat": 4,
 "nbformat_minor": 5
}
